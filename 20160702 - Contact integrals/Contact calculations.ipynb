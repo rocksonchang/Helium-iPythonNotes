{
 "cells": [
  {
   "cell_type": "markdown",
   "metadata": {},
   "source": [
    "## July 2 2016 \n",
    "Notes on the calculation of the two-body contact."
   ]
  },
  {
   "cell_type": "markdown",
   "metadata": {},
   "source": [
    "The total energy of a Bose gas is\n",
    "$ E=E_{kin}+E_{pot}+E_{int}$.\n",
    "\n",
    "Here, we'll ignore the kinetic contribution.  This is valid for a BEC in the Thomas-Fermi approximation.  \n",
    "\n",
    "$$ E_{pot} = \\int d\\vec{r} \\left[V(\\vec{r})\\left(n_B(\\vec{r}) +n_T(\\vec{r}) \\right)\\right]$$\n",
    "\n",
    "$$E_{int}=\\int d\\vec{r}\\left[\\frac{g}{2}\\left( n^2_B(\\vec{r})+\\frac{128}{15\\sqrt{\\pi}} \\sqrt{n_B(\\vec{r})^5a^3} \\right) +  2gn_B(\\vec{r})n_T(\\vec{r})+gn_T^2(\\vec{r}) \\right]$$"
   ]
  },
  {
   "cell_type": "markdown",
   "metadata": {},
   "source": [
    "where $V(\\vec{r})$ is the external potential, $g=4\\pi\\hbar^2 a/m$ is the interaction energy density, $a$ is the s-wave scattering length, $n_B(\\vec{r})$ is the density of the BEC and $n_T(\\vec{r})$ is the density of the Thermal cloud.  The integrand is the energy density, $\\epsilon$."
   ]
  },
  {
   "cell_type": "markdown",
   "metadata": {},
   "source": [
    "In general, there is a mixture of thermal cloud and BEC, in which case the energy and density profiles must be solve self-consistently. "
   ]
  },
  {
   "cell_type": "markdown",
   "metadata": {},
   "source": [
    "Here,I'm just going to calculate the extreme cases of a pure BEC, $n_T(\\vec{r})=0$.  The BEC distribution in the Thomas-Fermi limit is\n",
    "\n",
    "$$n_B(r)=n_0\\left[1-\\left( \\frac{r}{R}\\right)^2 \\right]$$\n",
    "\n",
    "where $n_0$ is density at center, and $R=\\sqrt{2\\mu/m\\omega^2}$ is the Thomas-Fermi radius with trap-frequency $\\omega$ and chemical potential $\\mu$,\n",
    "\n",
    "$$\\mu=\\frac{1}{2}\\hbar\\omega\\left(\\frac{15Na}{a_{ho}}\\right)^{2/5}$$\n",
    "\n",
    "$a_{ho}=\\sqrt{\\hbar/m\\omega}$ is the harmonic oscillator length."
   ]
  },
  {
   "cell_type": "markdown",
   "metadata": {},
   "source": [
    "The energy of the Thomas-Fermi BEC is then found to be\n",
    "\n",
    "$$E_{pot}=\\frac{3}{7}\\mu N$$\n",
    "\n",
    "$$E_{int}=\\frac{2}{7}\\mu N$$\n",
    "\n",
    "$$E=\\frac{5}{7}\\mu N$$"
   ]
  },
  {
   "cell_type": "markdown",
   "metadata": {},
   "source": [
    "From Smith et al. Phys. Rev. Lett. $\\bf{112}$, 110402 (2014), the definition of the contact is conveniently expressed from the tails of the momentum distribution,\n",
    "\n",
    "$$\\lim_{k\\rightarrow\\infty}\\,\\,k^4 n(k) = C_2 + \\alpha (k) C_3$$\n",
    "\n",
    "with\n",
    "$$\\alpha(k)=\\frac{A\\sin\\left[2s_0\\ln(k/\\kappa_{\\star}+\\phi)\\right]}{k}$$\n",
    "\n",
    "Here, $n(k)$ has been normalized such that $N=\\int d\\mathbf{k} \\,\\,n(k)/(2\\pi)^3$"
   ]
  },
  {
   "cell_type": "markdown",
   "metadata": {},
   "source": [
    "For an inhomogeneous gas, the contacts can be expressed as a contact density,\n",
    "\n",
    "$$C=\\int d\\mathbf{r} \\,\\, \\mathcal{C}$$"
   ]
  },
  {
   "cell_type": "markdown",
   "metadata": {},
   "source": [
    "## Two-body contact at zero-temperature\n",
    "\n",
    "The two-body contact density is related to the rate of change of the enegy density with with the scattering length,\n",
    "\n",
    "$$\\mathcal{C}_2=\\frac{8\\pi a^2 m}{\\hbar^2} \\frac{\\partial \\epsilon}{\\partial a} $$\n",
    "\n",
    "$$\\frac{\\partial \\epsilon}{\\partial a}=\\frac{2\\pi\\hbar^2}{m}n_B^2$$\n",
    "\n",
    "$$\\mathcal{C}_2=16\\pi^2a^2 n_B^2$$"
   ]
  },
  {
   "cell_type": "markdown",
   "metadata": {},
   "source": [
    "The two-body contact is related to the rate of change of the total energy with with the scattering length,\n",
    "\n",
    "$$C_2=\\frac{8\\pi a^2 m}{\\hbar^2} \\frac{\\partial E}{\\partial a}$$\n",
    "\n",
    "$$\\frac{\\partial E}{\\partial a}=\\frac{5N}{7}\\frac{\\partial \\mu}{\\partial a} =\\frac{5N}{7}\\frac{2\\mu}{5 a}$$\n",
    "\n",
    "$$C_2=\\frac{64\\pi^2}{7}a^2Nn_0$$\n",
    "\n",
    "\n",
    "$$\\frac{C_2}{(2\\pi)^3}=\\frac{8}{7\\pi}a^2Nn_0$$\n",
    "\n",
    "This result can also be obtained by integrating the contact density $\\mathcal{C}_2$."
   ]
  },
  {
   "cell_type": "markdown",
   "metadata": {},
   "source": [
    "## Two-body contact of a thermal gas\n",
    "\n",
    "$$\\mathcal{C}_2=32\\pi^2a^2 n_T^2$$\n",
    "\n",
    "Assuming a gaussian density distribution with standard deviation $\\sigma$ and peak density $n_{0,T}=N/(\\sqrt{2\\pi}\\sigma)^3$,\n",
    "\n",
    "$$\\frac{C_2}{(2\\pi)^3}=\\frac{\\sqrt{2}}{\\pi}a^2Nn_{0,T}$$\n"
   ]
  },
  {
   "cell_type": "markdown",
   "metadata": {},
   "source": [
    "##Contact in the non-zero case\n",
    "\n",
    "$$\\epsilon = \\frac{g}{2}\\left( n^2_B(\\vec{r})+\\frac{128}{15\\sqrt{\\pi}} \\sqrt{n_B(\\vec{r})^5a^3} \\right) +  2gn_B(\\vec{r})n_T(\\vec{r})+gn_T^2(\\vec{r}) $$\n",
    "\n",
    "$$C_2=\\frac{8\\pi a^2 m}{\\hbar^2}\\left(\\frac{2\\pi\\hbar^2}{m}n_0^2 + \\frac{8\\pi\\hbar^2}{m}n_0 n_T + \\frac{4\\pi\\hbar^2}{m}n_T^2 \\right)$$\n",
    "\n",
    "$$C_2 = 16\\pi^2 a^2 n_0^2 + 64\\pi^2 a^2 n_0 n_T + 32\\pi^2 a^2 n_T^2 $$\n",
    "\n",
    "$$C_2 = 16\\pi^2 a^2 \\left( n_0^2 + 4 n_0 n_T + 2 n_T^2 \\right)$$"
   ]
  },
  {
   "cell_type": "markdown",
   "metadata": {},
   "source": [
    "## Three-body contact\n",
    "\n",
    "The three-body contact is related to the rate of change of the total energy with with the \"the binding momentum of one of the Efimov trimers a unitarity\"\n",
    "\n",
    "$$C_3=-\\frac{m\\kappa_\\star}{2\\hbar^2} \\frac{\\partial E}{\\partial \\kappa_\\star}$$\n",
    "\n",
    "\"The value of $\\kappa_{\\star}$\" can be inferred from the scattering length $a_-$ at which the Efimov trimer crosses the 3-atom threshold... They are related by a universal constant: $a_-\\kappa_{\\star}=-1.50763$\".\n",
    "\n",
    "$$\\mathcal{C}_3= f a^4n^3$$\n",
    "\n",
    "with \n",
    "$$f=\\frac{16\\pi^2(4\\pi-3\\sqrt{3})s_0\\cosh(\\pi s_0)}{3\\sinh^3(\\pi s_0)}\\approx 2.82$$"
   ]
  },
  {
   "cell_type": "code",
   "execution_count": null,
   "metadata": {
    "collapsed": true
   },
   "outputs": [],
   "source": []
  }
 ],
 "metadata": {
  "kernelspec": {
   "display_name": "Python 3",
   "language": "python",
   "name": "python3"
  },
  "language_info": {
   "codemirror_mode": {
    "name": "ipython",
    "version": 3
   },
   "file_extension": ".py",
   "mimetype": "text/x-python",
   "name": "python",
   "nbconvert_exporter": "python",
   "pygments_lexer": "ipython3",
   "version": "3.5.1"
  }
 },
 "nbformat": 4,
 "nbformat_minor": 0
}
